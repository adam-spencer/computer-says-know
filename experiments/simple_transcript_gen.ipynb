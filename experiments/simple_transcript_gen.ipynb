{
 "cells": [
  {
   "cell_type": "code",
   "execution_count": 6,
   "id": "e9a08a17",
   "metadata": {},
   "outputs": [],
   "source": [
    "import whisper\n",
    "from utils import fmt_time"
   ]
  },
  {
   "cell_type": "code",
   "execution_count": 4,
   "id": "40ec915f",
   "metadata": {},
   "outputs": [
    {
     "name": "stderr",
     "output_type": "stream",
     "text": [
      "100%|███████████████████████████████████████| 461M/461M [01:48<00:00, 4.47MiB/s]\n"
     ]
    }
   ],
   "source": [
    "model = whisper.load_model('small.en')"
   ]
  },
  {
   "cell_type": "code",
   "execution_count": 49,
   "id": "f1c81492",
   "metadata": {},
   "outputs": [],
   "source": [
    "def to_file(fname, segments):\n",
    "    with open(fname, 'w') as f:\n",
    "        for seg in segments:\n",
    "            start, end, txt = fmt_time(seg['start']), fmt_time(seg['end']), seg['text']\n",
    "            f.write(f\"[{start} -> {end}] {txt}\\n\")"
   ]
  },
  {
   "cell_type": "code",
   "execution_count": 7,
   "id": "6eda99cc",
   "metadata": {},
   "outputs": [
    {
     "data": {
      "text/plain": [
       "'100:02'"
      ]
     },
     "execution_count": 7,
     "metadata": {},
     "output_type": "execute_result"
    }
   ],
   "source": [
    "fmt_time(6002)"
   ]
  },
  {
   "cell_type": "code",
   "execution_count": null,
   "id": "ed765ef0",
   "metadata": {},
   "outputs": [],
   "source": []
  }
 ],
 "metadata": {
  "kernelspec": {
   "display_name": "Python 3 (ipykernel)",
   "language": "python",
   "name": "python3"
  },
  "language_info": {
   "codemirror_mode": {
    "name": "ipython",
    "version": 3
   },
   "file_extension": ".py",
   "mimetype": "text/x-python",
   "name": "python",
   "nbconvert_exporter": "python",
   "pygments_lexer": "ipython3",
   "version": "3.9.12"
  }
 },
 "nbformat": 4,
 "nbformat_minor": 5
}
