{
 "cells": [
  {
   "cell_type": "code",
   "execution_count": 2,
   "id": "e9a08a17",
   "metadata": {},
   "outputs": [],
   "source": [
    "import whisper\n",
    "import utils as u"
   ]
  },
  {
   "cell_type": "code",
   "execution_count": 3,
   "id": "40ec915f",
   "metadata": {
    "scrolled": true
   },
   "outputs": [],
   "source": [
    "model = whisper.load_model('small.en')"
   ]
  },
  {
   "cell_type": "code",
   "execution_count": 4,
   "id": "624ee3f1",
   "metadata": {},
   "outputs": [],
   "source": [
    "opts = dict(fp16 = False, task = \"transcribe\", language = \"English\")\n",
    "file = 'audio/pot.wav'\n",
    "out  = 'output/pot.txt'"
   ]
  },
  {
   "cell_type": "code",
   "execution_count": 5,
   "id": "f2a562ce",
   "metadata": {},
   "outputs": [],
   "source": [
    "result = model.transcribe(file, **opts)\n",
    "u.write_result(out, result)"
   ]
  },
  {
   "cell_type": "code",
   "execution_count": null,
   "id": "16706a0b",
   "metadata": {},
   "outputs": [],
   "source": []
  }
 ],
 "metadata": {
  "kernelspec": {
   "display_name": "Python 3 (ipykernel)",
   "language": "python",
   "name": "python3"
  },
  "language_info": {
   "codemirror_mode": {
    "name": "ipython",
    "version": 3
   },
   "file_extension": ".py",
   "mimetype": "text/x-python",
   "name": "python",
   "nbconvert_exporter": "python",
   "pygments_lexer": "ipython3",
   "version": "3.9.9"
  }
 },
 "nbformat": 4,
 "nbformat_minor": 5
}
